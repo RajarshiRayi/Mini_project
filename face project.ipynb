{
 "cells": [
  {
   "cell_type": "markdown",
   "id": "43beb6e9",
   "metadata": {},
   "source": [
    "### Face Matching only"
   ]
  },
  {
   "cell_type": "code",
   "execution_count": 4,
   "id": "424eaa70",
   "metadata": {},
   "outputs": [],
   "source": [
    "import cv2\n",
    "import numpy as np\n",
    "import face_recognition\n",
    "import os"
   ]
  },
  {
   "cell_type": "code",
   "execution_count": 5,
   "id": "edce7f40",
   "metadata": {},
   "outputs": [],
   "source": [
    "path = r'C:\\Users\\JOKER\\Documents\\Face_exp\\CSE-1A PHOTOS'  # here collected dataset that we used for recognition\n",
    "images = []                                              # Only for images\n",
    "classNames = []  # only for images names  note: image withrespective name of images\n",
    "myList = os.listdir(path)  #taking the path access\n",
    "for cl in myList:\n",
    "    curImg = cv2.imread(f'{path}/{cl}')     #accessing the all images \n",
    "    images.append(curImg)                     # storing the all images\n",
    "    classNames.append(os.path.splitext(cl)[0])    # storing the names of the images \n",
    "\n",
    "encodeListKnown=np.load('encodeface.npy')    # loading the encoding file of the collected images it will store in array formate"
   ]
  },
  {
   "cell_type": "code",
   "execution_count": 11,
   "id": "7f4099b8",
   "metadata": {},
   "outputs": [],
   "source": [
    "def findEncodings(images):       #this block is used for the training the images in the digital format \n",
    "    encodeList = []              # empty list for storing the encoded images for recognition\n",
    "    for img in images:\n",
    "        img = cv2.cvtColor(img, cv2.COLOR_BGR2RGB)            # converting images into original format \n",
    "        encode = face_recognition.face_encodings(img)[0]        # storing the encoded images in encode\n",
    "        encodeList.append(encode)                               # storing the all encoded images\n",
    "    return encodeList\n",
    "encodeListKnown = findEncodings(images)                      # return the encoded data \n",
    "#np.save('encodeface.npy',encodeListKnown)   # here encoded data takes time so for reduce the time we save the encode data"
   ]
  },
  {
   "cell_type": "code",
   "execution_count": 6,
   "id": "eb3972b6",
   "metadata": {},
   "outputs": [],
   "source": [
    "cap=cv2.VideoCapture(0)    # web cam or camara accessing command\n",
    "while True:\n",
    "    ret,frame= cap.read()                            # here frame is the photo for every secound\n",
    "    imgS = cv2.resize(frame, (0, 0), None, 0.25, 0.25)   # resize the frame may notbe neccessery\n",
    "    imgS = cv2.cvtColor(imgS, cv2.COLOR_BGR2RGB)        # convert the color\n",
    "    facesCurFrame = face_recognition.face_locations(imgS)        # loacting the face in the frame\n",
    "    encodesCurFrame = face_recognition.face_encodings(imgS, facesCurFrame)  # encoded the faces in the frame\n",
    "    for encodeFace, faceLoc in zip(encodesCurFrame, facesCurFrame):\n",
    "            matches = face_recognition.compare_faces(encodeListKnown, encodeFace)   # compare the encoded face from cam and encoded faces from colleceted data\n",
    "            faceDis = face_recognition.face_distance(encodeListKnown, encodeFace)  # find the which position of the faces is matched such if face is matched at six face then return the 6 values in array format\n",
    "            matchIndex = np.argmin(faceDis)  # convert the array to normal number such as integer format\n",
    "    \n",
    "            if matches[matchIndex]:     \n",
    "                name = classNames[matchIndex].upper()   # finding the name via using the matchIndex number\n",
    "                y1, x2, y2, x1 = faceLoc        # loacation of the faces which are matched in x/4 ratio format\n",
    "                y1, x2, y2, x1 = y1 * 4, x2 * 4, y2 * 4, x1 * 4       # converting the ratio in original format\n",
    "                cv2.rectangle(frame, (x1, y1), (x2, y2), (0, 255, 0), 2)    # creating the rectangle on matched faces\n",
    "                cv2.rectangle(frame, (x1, y2 - 35), (x2, y2), (0, 255, 0), cv2.FILLED)  # this is used for putting the recognized name\n",
    "                cv2.putText(frame, name, (x1 + 6, y2 - 6), cv2.FONT_HERSHEY_COMPLEX, 1, (255, 255, 255), 2)  # name text\n",
    "\n",
    "    cv2.imshow('testing faces',frame)   # return the frame after recognition\n",
    "    if cv2.waitKey(1) & 0xff==ord('q'):   # used for closing the loop \n",
    "        break\n",
    "cap.release()        # deacitvating the cam which we used now\n",
    "cv2.destroyAllWindows()   # closing the all related windows which are opened"
   ]
  },
  {
   "cell_type": "code",
   "execution_count": null,
   "id": "4dfefd89",
   "metadata": {},
   "outputs": [],
   "source": []
  },
  {
   "cell_type": "code",
   "execution_count": null,
   "id": "438054eb",
   "metadata": {},
   "outputs": [],
   "source": []
  },
  {
   "cell_type": "markdown",
   "id": "513875ab",
   "metadata": {},
   "source": [
    "### emotion detection"
   ]
  },
  {
   "cell_type": "code",
   "execution_count": 9,
   "id": "7a00961b",
   "metadata": {},
   "outputs": [],
   "source": [
    "import cv2\n",
    "import numpy as np\n",
    "from deepface import DeepFace\n",
    "\n",
    "faceCascade=cv2.CascadeClassifier(cv2.data.haarcascades+'haarcascade_frontalface_default.xml')\n",
    "font=cv2.FONT_HERSHEY_SIMPLEX\n",
    "def exp():\n",
    "    ret,frame= cap.read()\n",
    "    gray=cv2.cvtColor(frame,cv2.COLOR_BGR2GRAY)\n",
    "    faces= faceCascade.detectMultiScale(gray,1.1,4)\n",
    "    if(len(faces)!=0):\n",
    "        res=DeepFace.analyze(frame, actions=['emotion'])\n",
    "        for (x,y,w,h) in faces:\n",
    "            cv2.rectangle(frame,(x,y),(x+w,y+h),(0,255,0),1) \n",
    "            cv2.putText(frame, res['dominant_emotion'],(x-10,y-10),font,3,(0,0,255),cv2.LINE_4)\n",
    "        print(res['dominant_emotion'])\n",
    "    cv2.imshow('testing emotions',frame)  \n",
    "\n",
    "\n",
    "cap=cv2.VideoCapture(0)\n",
    "while True:\n",
    "    try:\n",
    "        exp()\n",
    "    except:\n",
    "        print(\"no face found\")\n",
    "    if cv2.waitKey(1) & 0xFF==ord('q'):\n",
    "        break\n",
    "        \n",
    "cap.release()\n",
    "cv2.destroyAllWindows()"
   ]
  },
  {
   "cell_type": "code",
   "execution_count": null,
   "id": "cadeb4b6",
   "metadata": {},
   "outputs": [],
   "source": []
  },
  {
   "cell_type": "code",
   "execution_count": null,
   "id": "48768acc",
   "metadata": {},
   "outputs": [],
   "source": []
  },
  {
   "cell_type": "markdown",
   "id": "bd055594",
   "metadata": {},
   "source": [
    "### PROPOSED SYSTEM"
   ]
  },
  {
   "cell_type": "markdown",
   "id": "571fe207",
   "metadata": {},
   "source": [
    "## Main Code"
   ]
  },
  {
   "cell_type": "code",
   "execution_count": 10,
   "id": "64c762b3",
   "metadata": {},
   "outputs": [],
   "source": [
    "import cv2\n",
    "import numpy as np\n",
    "import face_recognition\n",
    "import os\n",
    "from deepface import DeepFace\n",
    "import time"
   ]
  },
  {
   "cell_type": "code",
   "execution_count": 11,
   "id": "e1975221",
   "metadata": {},
   "outputs": [],
   "source": [
    "path = r'C:\\Users\\JOKER\\Documents\\Face_exp\\CSE-1A PHOTOS'\n",
    "images = []\n",
    "classNames = []\n",
    "myList = os.listdir(path)\n",
    "for cl in myList:\n",
    "    curImg = cv2.imread(f'{path}/{cl}')\n",
    "    images.append(curImg)\n",
    "    classNames.append(os.path.splitext(cl)[0])\n",
    "\n",
    "encodeListKnown=np.load('encodeface.npy')"
   ]
  },
  {
   "cell_type": "code",
   "execution_count": 12,
   "id": "d23681e7",
   "metadata": {
    "scrolled": true
   },
   "outputs": [
    {
     "name": "stdout",
     "output_type": "stream",
     "text": [
      "1/1 [==============================] - 0s 59ms/step\n",
      "S170001 neutral\n",
      "1/1 [==============================] - 0s 81ms/step\n",
      "S171100 neutral\n",
      "1/1 [==============================] - 0s 49ms/step\n",
      "S171100 neutral\n",
      "1/1 [==============================] - 0s 61ms/step\n",
      "S171100 neutral\n",
      "1/1 [==============================] - 0s 51ms/step\n",
      "S171100 neutral\n",
      "1/1 [==============================] - 0s 49ms/step\n",
      "S171100 neutral\n",
      "1/1 [==============================] - 0s 71ms/step\n",
      "S171100 neutral\n",
      "no face found\n",
      "success\n"
     ]
    }
   ],
   "source": [
    "cap = cv2.VideoCapture(0)\n",
    "\n",
    "while True:\n",
    "    success, img = cap.read()\n",
    "    imgS = cv2.resize(img, (0, 0), None, 0.25, 0.25)\n",
    "    imgS = cv2.cvtColor(imgS, cv2.COLOR_BGR2RGB)\n",
    "    \n",
    "    facesCurFrame = face_recognition.face_locations(imgS)\n",
    "    encodesCurFrame = face_recognition.face_encodings(imgS, facesCurFrame)\n",
    "    try:\n",
    "        for encodeFace, faceLoc in zip(encodesCurFrame, facesCurFrame):\n",
    "            matches = face_recognition.compare_faces(encodeListKnown, encodeFace)\n",
    "            faceDis = face_recognition.face_distance(encodeListKnown, encodeFace)\n",
    "            matchIndex = np.argmin(faceDis)\n",
    "    \n",
    "            if matches[matchIndex]:\n",
    "                res=DeepFace.analyze(img, actions=['emotion'])\n",
    "                name = classNames[matchIndex].upper()\n",
    "                print(name,res['dominant_emotion'])\n",
    "                y1, x2, y2, x1 = faceLoc\n",
    "                y1, x2, y2, x1 = y1 * 4, x2 * 4, y2 * 4, x1 * 4\n",
    "                cv2.rectangle(img, (x1, y1), (x2, y2), (0, 255, 0), 2)\n",
    "                cv2.rectangle(img, (x1, y2 - 35), (x2, y2), (0, 255, 0), cv2.FILLED)\n",
    "                cv2.putText(img, name+' '+res['dominant_emotion'], (x1 + 6, y2 - 6), cv2.FONT_HERSHEY_COMPLEX, 1, (255, 255, 255), 2)\n",
    "                \n",
    "    except:\n",
    "        print('no face found')\n",
    "    cv2.imshow('Webcam', img)\n",
    "    if cv2.waitKey(1) & 0xff==ord('q'):\n",
    "        break\n",
    "    #time.sleep(1.200)\n",
    "cap.release()\n",
    "cv2.destroyAllWindows()\n",
    "print('success')\n"
   ]
  },
  {
   "cell_type": "code",
   "execution_count": null,
   "id": "5389fffc",
   "metadata": {},
   "outputs": [],
   "source": []
  },
  {
   "cell_type": "code",
   "execution_count": null,
   "id": "8b8ee101",
   "metadata": {},
   "outputs": [],
   "source": []
  },
  {
   "cell_type": "code",
   "execution_count": null,
   "id": "6c92dbac",
   "metadata": {},
   "outputs": [],
   "source": []
  },
  {
   "cell_type": "code",
   "execution_count": null,
   "id": "892b0dac",
   "metadata": {},
   "outputs": [],
   "source": []
  },
  {
   "cell_type": "code",
   "execution_count": null,
   "id": "01b2ffb6",
   "metadata": {},
   "outputs": [],
   "source": []
  },
  {
   "cell_type": "code",
   "execution_count": null,
   "id": "03c98c40",
   "metadata": {},
   "outputs": [],
   "source": []
  },
  {
   "cell_type": "code",
   "execution_count": null,
   "id": "47ed9980",
   "metadata": {},
   "outputs": [],
   "source": []
  },
  {
   "cell_type": "code",
   "execution_count": null,
   "id": "925d9a36",
   "metadata": {},
   "outputs": [],
   "source": []
  },
  {
   "cell_type": "code",
   "execution_count": null,
   "id": "6a997594",
   "metadata": {},
   "outputs": [],
   "source": []
  },
  {
   "cell_type": "code",
   "execution_count": null,
   "id": "3ae6f175",
   "metadata": {},
   "outputs": [],
   "source": []
  },
  {
   "cell_type": "code",
   "execution_count": null,
   "id": "a6488ec2",
   "metadata": {},
   "outputs": [],
   "source": []
  },
  {
   "cell_type": "code",
   "execution_count": null,
   "id": "098bb8a0",
   "metadata": {},
   "outputs": [],
   "source": []
  },
  {
   "cell_type": "code",
   "execution_count": null,
   "id": "39bb8933",
   "metadata": {},
   "outputs": [],
   "source": []
  },
  {
   "cell_type": "code",
   "execution_count": null,
   "id": "c1e6f53e",
   "metadata": {},
   "outputs": [],
   "source": []
  },
  {
   "cell_type": "code",
   "execution_count": null,
   "id": "214ab29c",
   "metadata": {},
   "outputs": [],
   "source": []
  },
  {
   "cell_type": "code",
   "execution_count": null,
   "id": "5fa779c5",
   "metadata": {},
   "outputs": [],
   "source": []
  },
  {
   "cell_type": "code",
   "execution_count": null,
   "id": "fe36278d",
   "metadata": {},
   "outputs": [],
   "source": []
  },
  {
   "cell_type": "code",
   "execution_count": null,
   "id": "02a0c174",
   "metadata": {},
   "outputs": [],
   "source": []
  },
  {
   "cell_type": "code",
   "execution_count": null,
   "id": "69b06b2d",
   "metadata": {},
   "outputs": [],
   "source": []
  },
  {
   "cell_type": "code",
   "execution_count": null,
   "id": "92279153",
   "metadata": {},
   "outputs": [],
   "source": []
  },
  {
   "cell_type": "code",
   "execution_count": null,
   "id": "3277c03c",
   "metadata": {},
   "outputs": [],
   "source": []
  },
  {
   "cell_type": "code",
   "execution_count": null,
   "id": "07f9d956",
   "metadata": {},
   "outputs": [],
   "source": []
  },
  {
   "cell_type": "code",
   "execution_count": null,
   "id": "75cb3df4",
   "metadata": {},
   "outputs": [],
   "source": []
  },
  {
   "cell_type": "code",
   "execution_count": 4,
   "id": "983103d3",
   "metadata": {},
   "outputs": [
    {
     "name": "stdout",
     "output_type": "stream",
     "text": [
      "{'S171100': {'neutral': 1}}\n"
     ]
    }
   ],
   "source": [
    "print(record_data)"
   ]
  },
  {
   "cell_type": "code",
   "execution_count": 25,
   "id": "3425fb4e",
   "metadata": {},
   "outputs": [],
   "source": [
    "a={'name':{'ang':6,'fun':7}}"
   ]
  },
  {
   "cell_type": "code",
   "execution_count": 26,
   "id": "13c6a96a",
   "metadata": {},
   "outputs": [
    {
     "data": {
      "text/plain": [
       "{'ang': 6, 'fun': 7}"
      ]
     },
     "execution_count": 26,
     "metadata": {},
     "output_type": "execute_result"
    }
   ],
   "source": [
    "z='name'\n",
    "a[z]"
   ]
  },
  {
   "cell_type": "code",
   "execution_count": 32,
   "id": "bded974e",
   "metadata": {},
   "outputs": [
    {
     "data": {
      "text/plain": [
       "{'ang': 8, 'fun': 7}"
      ]
     },
     "execution_count": 32,
     "metadata": {},
     "output_type": "execute_result"
    }
   ],
   "source": [
    "a[z]['ang']+=1\n",
    "a[z]"
   ]
  },
  {
   "cell_type": "code",
   "execution_count": 34,
   "id": "fa569c84",
   "metadata": {},
   "outputs": [],
   "source": [
    "a[z].update({\"hu\":8})"
   ]
  },
  {
   "cell_type": "code",
   "execution_count": 36,
   "id": "b3480390",
   "metadata": {},
   "outputs": [],
   "source": [
    "a.update({\"age\":{'hi':1}})"
   ]
  },
  {
   "cell_type": "code",
   "execution_count": 40,
   "id": "c2d3b39e",
   "metadata": {},
   "outputs": [],
   "source": [
    "a={'name': {'ang': 8, 'fun': 7, 'hu': 8}, 'age': {'hi': 1}}"
   ]
  },
  {
   "cell_type": "code",
   "execution_count": 44,
   "id": "d1dbe045",
   "metadata": {},
   "outputs": [],
   "source": [
    "n='name'\n",
    "if n in a:\n",
    "    if 'ang' in a[n]:\n",
    "        print(1)"
   ]
  },
  {
   "cell_type": "code",
   "execution_count": null,
   "id": "8dc52caa",
   "metadata": {},
   "outputs": [],
   "source": []
  },
  {
   "cell_type": "code",
   "execution_count": null,
   "id": "98d6a256",
   "metadata": {},
   "outputs": [],
   "source": []
  },
  {
   "cell_type": "code",
   "execution_count": 27,
   "id": "a17a2dfd",
   "metadata": {},
   "outputs": [],
   "source": [
    "def findEncodings(images):\n",
    "    encodeList = []\n",
    "    for img in images:\n",
    "        img = cv2.cvtColor(img, cv2.COLOR_BGR2RGB)\n",
    "        encode = face_recognition.face_encodings(img)[0]\n",
    "        encodeList.append(encode)\n",
    "    return encodeList\n",
    "encodeListKnown = findEncodings(images)"
   ]
  },
  {
   "cell_type": "code",
   "execution_count": 29,
   "id": "e0fa5fcf",
   "metadata": {},
   "outputs": [],
   "source": [
    "np.save('encodeface.npy',encodeListKnown)"
   ]
  },
  {
   "cell_type": "code",
   "execution_count": 30,
   "id": "838c6b13",
   "metadata": {},
   "outputs": [
    {
     "name": "stdout",
     "output_type": "stream",
     "text": [
      "[[-0.16548252  0.15445173  0.11325142 ...  0.02390457 -0.01240396\n",
      "  -0.01361537]\n",
      " [-0.17030059 -0.04403138  0.02492769 ... -0.09167479  0.01475794\n",
      "   0.02743253]\n",
      " [-0.11996824  0.05773755  0.05165917 ... -0.11069394  0.16518173\n",
      "   0.13106677]\n",
      " ...\n",
      " [-0.17789404  0.03328991  0.06130794 ... -0.09026919  0.06856556\n",
      "  -0.01468044]\n",
      " [-0.12261506  0.00243901  0.0147264  ... -0.04825155  0.08865346\n",
      "   0.03763093]\n",
      " [-0.19185492  0.00264468  0.04828811 ... -0.07156402  0.07105755\n",
      "   0.03360137]]\n"
     ]
    }
   ],
   "source": [
    "encodeListKnow=np.load('encodeface.npy',allow_pickle=True)\n",
    "print(encodeListKnow)"
   ]
  },
  {
   "cell_type": "code",
   "execution_count": 37,
   "id": "001176fc",
   "metadata": {},
   "outputs": [],
   "source": [
    "'''\n",
    "faceCascade=cv2.CascadeClassifier(cv2.data.haarcascades+'haarcascade_frontalface_default.xml')\n",
    "font=cv2.FONT_HERSHEY_SIMPLEX\n",
    "def exp():\n",
    "    ret,frame= cap.read()\n",
    "    gray=cv2.cvtColor(frame,cv2.COLOR_BGR2GRAY)\n",
    "    faces= faceCascade.detectMultiScale(gray,1.1,4)\n",
    "    facesCurFrame = face_recognition.face_locations(frame)\n",
    "    encodesCurFrame = face_recognition.face_encodings(frame, facesCurFrame)\n",
    "    if(len(faces)!=0):\n",
    "        for encodeFace, faceLoc in zip(encodesCurFrame, facesCurFrame):\n",
    "            matches = face_recognition.compare_faces(encodeListKnown, encodeFace)\n",
    "            faceDis = face_recognition.face_distance(encodeListKnown, encodeFace)\n",
    "            matchIndex = np.argmin(faceDis)\n",
    "\n",
    "            if matches[matchIndex]:\n",
    "                name = classNames[matchIndex].upper()\n",
    "                res=DeepFace.analyze(frame, actions=['emotion'])\n",
    "                desplay=[name,res['dominant_emotion']]\n",
    "                print(desplay)\n",
    "                y1, x2, y2, x1 = faceLoc\n",
    "                y1, x2, y2, x1 = y1 * 4, x2 * 4, y2 * 4, x1 * 4\n",
    "                cv2.rectangle(img, (x1, y1), (x2, y2), (0, 255, 0), 2)\n",
    "                cv2.rectangle(img, (x1, y2 - 35), (x2, y2), (0, 255, 0), cv2.FILLED)\n",
    "                cv2.putText(img, desplay[0]+desplay[1], (x1 + 6, y2 - 6), cv2.FONT_HERSHEY_COMPLEX, 1, (255, 255, 255), 2)\n",
    "        cv2.imshow('Webcam', img)\n",
    "        for (x,y,w,h) in faces:\n",
    "            cv2.rectangle(frame,(x,y),(x+w,y+h),(0,255,0),1) \n",
    "            cv2.putText(frame, res['dominant_emotion'],(x-10,y-10),font,3,(0,0,255),cv2.LINE_4)\n",
    "        print(res['dominant_emotion'])\n",
    "    cv2.imshow('testing emotions',frame)\n",
    "                 \n",
    "cap=cv2.VideoCapture(0)\n",
    "while True:\n",
    "    try:\n",
    "        exp()\n",
    "    except:\n",
    "        print(\"no face found\")\n",
    "    if cv2.waitKey(0) & 0xFF==ord('q'):\n",
    "        break\n",
    "        \n",
    "cap.release()\n",
    "cv2.destroyAllWindows()\n",
    "'''   "
   ]
  },
  {
   "cell_type": "code",
   "execution_count": 15,
   "id": "101b42d4",
   "metadata": {},
   "outputs": [],
   "source": [
    "cap.release()"
   ]
  },
  {
   "cell_type": "code",
   "execution_count": null,
   "id": "e10146f1",
   "metadata": {},
   "outputs": [],
   "source": []
  }
 ],
 "metadata": {
  "kernelspec": {
   "display_name": "Python 3 (ipykernel)",
   "language": "python",
   "name": "python3"
  },
  "language_info": {
   "codemirror_mode": {
    "name": "ipython",
    "version": 3
   },
   "file_extension": ".py",
   "mimetype": "text/x-python",
   "name": "python",
   "nbconvert_exporter": "python",
   "pygments_lexer": "ipython3",
   "version": "3.9.12"
  }
 },
 "nbformat": 4,
 "nbformat_minor": 5
}
